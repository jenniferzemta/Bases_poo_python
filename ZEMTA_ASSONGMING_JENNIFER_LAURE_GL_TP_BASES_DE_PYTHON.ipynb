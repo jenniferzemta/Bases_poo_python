{
 "cells": [
  {
   "cell_type": "code",
   "execution_count": 34,
   "id": "7f174f3a-867e-4c84-ab02-f83594f57f5a",
   "metadata": {},
   "outputs": [
    {
     "name": "stdout",
     "output_type": "stream",
     "text": [
      "entrez votre nom : laure\n"
     ]
    },
    {
     "name": "stdout",
     "output_type": "stream",
     "text": [
      "laure , Bienvenue a vous\n"
     ]
    }
   ],
   "source": [
    "1.\n",
    "nom= input(\"entrez votre nom :\")\n",
    "print( f\"{nom} , Bienvenue a vous\")"
   ]
  },
  {
   "cell_type": "code",
   "execution_count": 12,
   "id": "61d323b3-00d0-4a70-8a5b-2b64fe47ce88",
   "metadata": {},
   "outputs": [
    {
     "name": "stdout",
     "output_type": "stream",
     "text": [
      "Entrez votre nom :  laure\n"
     ]
    },
    {
     "name": "stdout",
     "output_type": "stream",
     "text": [
      "laure, Bienvenue a vous \n"
     ]
    }
   ],
   "source": [
    "nom = input(\"entrez votre nom : \")\n",
    "print(str(nom) + \", Bienvenue a vous \")"
   ]
  },
  {
   "cell_type": "code",
   "execution_count": 36,
   "id": "80cf26cb-64c8-479a-82ef-101507fe2001",
   "metadata": {},
   "outputs": [
    {
     "name": "stdout",
     "output_type": "stream",
     "text": [
      "entrer un nombre a: 10\n",
      "entrer un nombre b: 10\n"
     ]
    },
    {
     "name": "stdout",
     "output_type": "stream",
     "text": [
      "la somme de a et b est : 20\n"
     ]
    }
   ],
   "source": [
    "2.\n",
    "a= int(input(\"entrer un nombre a:\"))\n",
    "b= int(input(\"entrer un nombre b:\"))\n",
    "som= a+b\n",
    "print(\"la somme de a et b est : \" + str(som))"
   ]
  },
  {
   "cell_type": "code",
   "execution_count": 28,
   "id": "d56045e1-3ded-41c6-a87e-f27e65f114e6",
   "metadata": {},
   "outputs": [
    {
     "name": "stdout",
     "output_type": "stream",
     "text": [
      "entrer un nombre a: -10\n",
      "entrer un nombre b: -30\n"
     ]
    },
    {
     "name": "stdout",
     "output_type": "stream",
     "text": [
      "la somme de a et b est : -40.0\n"
     ]
    }
   ],
   "source": [
    "a= float(input(\"entrer un nombre a:\"))\n",
    "b= float(input(\"entrer un nombre b:\"))\n",
    "som= a+b\n",
    "print(f\"la somme de a et b est : {som}\" )"
   ]
  },
  {
   "cell_type": "code",
   "execution_count": 29,
   "id": "42c52b86-ac40-421d-9aab-225b703c924e",
   "metadata": {},
   "outputs": [
    {
     "name": "stdout",
     "output_type": "stream",
     "text": [
      "entrer un nombre a: -10\n",
      "entrer un nombre b: -40\n"
     ]
    },
    {
     "name": "stdout",
     "output_type": "stream",
     "text": [
      "le max est a : -10.0\n"
     ]
    }
   ],
   "source": [
    "3.\n",
    "a= float(input(\"entrer un nombre a:\"))\n",
    "b= float(input(\"entrer un nombre b:\"))\n",
    "if (a<b):\n",
    "    print(\"le maximum est b : \"+str(b))\n",
    "else:\n",
    "    print(\"le max est a : \"+str(a))"
   ]
  },
  {
   "cell_type": "code",
   "execution_count": 27,
   "id": "c729bf5a-30fa-46a8-b918-2aefe2b9282f",
   "metadata": {},
   "outputs": [
    {
     "name": "stdout",
     "output_type": "stream",
     "text": [
      "0\n",
      "1\n",
      "2\n",
      "3\n",
      "4\n",
      "5\n",
      "6\n",
      "7\n",
      "8\n",
      "9\n",
      "10\n",
      "11\n",
      "12\n",
      "13\n",
      "14\n",
      "15\n",
      "16\n",
      "17\n",
      "18\n",
      "19\n",
      "20\n",
      "21\n",
      "22\n",
      "23\n",
      "24\n",
      "25\n",
      "26\n",
      "27\n",
      "28\n",
      "29\n",
      "30\n",
      "31\n",
      "32\n",
      "33\n",
      "34\n",
      "35\n",
      "36\n",
      "37\n",
      "38\n",
      "39\n",
      "40\n",
      "41\n",
      "42\n",
      "43\n",
      "44\n",
      "45\n",
      "46\n",
      "47\n",
      "48\n",
      "49\n",
      "50\n",
      "51\n",
      "52\n",
      "53\n",
      "54\n",
      "55\n",
      "56\n",
      "57\n",
      "58\n",
      "59\n",
      "60\n",
      "61\n",
      "62\n",
      "63\n",
      "64\n",
      "65\n",
      "66\n",
      "67\n",
      "68\n",
      "69\n",
      "70\n",
      "71\n",
      "72\n",
      "73\n",
      "74\n",
      "75\n",
      "76\n",
      "77\n",
      "78\n",
      "79\n",
      "80\n",
      "81\n",
      "82\n",
      "83\n",
      "84\n",
      "85\n",
      "86\n",
      "87\n",
      "88\n",
      "89\n",
      "90\n",
      "91\n",
      "92\n",
      "93\n",
      "94\n",
      "95\n",
      "96\n",
      "97\n",
      "98\n",
      "99\n"
     ]
    }
   ],
   "source": [
    "4.\n",
    "i=0 \n",
    "for i in range (100):\n",
    "    print(i)"
   ]
  },
  {
   "cell_type": "code",
   "execution_count": 30,
   "id": "f9501a48-17ee-4ce8-8b26-2b98a29f1af9",
   "metadata": {},
   "outputs": [
    {
     "name": "stdout",
     "output_type": "stream",
     "text": [
      "entrer un nombre a: 32\n"
     ]
    },
    {
     "name": "stdout",
     "output_type": "stream",
     "text": [
      "le nombre 32 est pair\n"
     ]
    }
   ],
   "source": [
    "5.\n",
    "a= int(input(\"entrer un nombre a:\"))\n",
    "if(a % 2==0):\n",
    "    print(\"le nombre \" +str(a)+ \" est pair\")\n",
    "else:\n",
    "    print(\"le nombre \" +str(a)+ \" est impair\")"
   ]
  },
  {
   "cell_type": "code",
   "execution_count": 33,
   "id": "67a9887a-99b0-490c-b691-2045cc9a8ddd",
   "metadata": {},
   "outputs": [
    {
     "name": "stdout",
     "output_type": "stream",
     "text": [
      "entrer votre age : 20\n"
     ]
    },
    {
     "name": "stdout",
     "output_type": "stream",
     "text": [
      "vous etes majeur\n"
     ]
    }
   ],
   "source": [
    "6.\n",
    "age= int(input(\"entrer votre age :\"))                                                                                                                                      \n",
    "if(age>=18):\n",
    "    print(\"vous etes majeur\")\n",
    "else :\n",
    "    print(\" vous etes mineur\")"
   ]
  },
  {
   "cell_type": "code",
   "execution_count": 37,
   "id": "c7df877b-9987-43f3-9b1e-87e47c80bc3d",
   "metadata": {},
   "outputs": [
    {
     "name": "stdout",
     "output_type": "stream",
     "text": [
      "entrer un nombre x: 10\n",
      "entrer un nombre y: 20\n",
      "entrer un nombre z: 30\n"
     ]
    },
    {
     "name": "stdout",
     "output_type": "stream",
     "text": [
      "le max est z : 30.0\n"
     ]
    }
   ],
   "source": [
    "7.\n",
    "x= float(input(\"entrer un nombre x:\"))\n",
    "y= float(input(\"entrer un nombre y:\"))\n",
    "z= float(input(\"entrer un nombre z:\"))\n",
    "if (x>y // x>z):\n",
    "    print(\"le maximum est x : \"+str(x))\n",
    "elif (y>x // y>z):\n",
    "    print(\"le max est y : \"+str(y))\n",
    "else:\n",
    "    print(\"le max est z : \"+str(z))\n"
   ]
  },
  {
   "cell_type": "code",
   "execution_count": 41,
   "id": "d94c3bc1-8cfe-41e6-9e99-540c9ea050f0",
   "metadata": {},
   "outputs": [
    {
     "name": "stdout",
     "output_type": "stream",
     "text": [
      "Entrez un nombre entier n :  10\n"
     ]
    },
    {
     "name": "stdout",
     "output_type": "stream",
     "text": [
      "La somme des entiers de 1 à 10 est : 55\n"
     ]
    }
   ],
   "source": [
    "8.\n",
    "n = int(input(\"Entrez un nombre entier n : \"))\n",
    "som= 0\n",
    "for i in range(1, n+1):\n",
    "    som += i \n",
    "print(\"La somme des entiers de 1 à\", n, \"est :\", som)"
   ]
  },
  {
   "cell_type": "code",
   "execution_count": 48,
   "id": "6a7afb29-ac6c-4f2b-b6e5-8ba8990bcaef",
   "metadata": {},
   "outputs": [
    {
     "name": "stdout",
     "output_type": "stream",
     "text": [
      "Entrez un nombre entier n :  2\n"
     ]
    },
    {
     "name": "stdout",
     "output_type": "stream",
     "text": [
      "le factoriel de n est : 2\n"
     ]
    }
   ],
   "source": [
    "9.\n",
    "n = int(input(\"Entrez un nombre entier n : \"))\n",
    "fact=1\n",
    "for i in range(1, n+1):\n",
    "    fact*=i\n",
    "print (\"le factoriel de n est :\", fact)"
   ]
  },
  {
   "cell_type": "code",
   "execution_count": 59,
   "id": "821ec6d9-045e-450f-9881-e3613483218c",
   "metadata": {},
   "outputs": [
    {
     "name": "stdout",
     "output_type": "stream",
     "text": [
      "Entrez un nombre entier r :  10\n"
     ]
    },
    {
     "name": "stdout",
     "output_type": "stream",
     "text": [
      "le perimetre du cercle est : 62.83185307179586 m\n",
      "la surface du cercle est : 314.1592653589793 m^2\n"
     ]
    }
   ],
   "source": [
    "10.\n",
    "import math\n",
    "\n",
    "r = float(input(\"Entrez un nombre entier r : \"))\n",
    "per= 2* math.pi*r\n",
    "sur=math.pi*r*r\n",
    "print (\"le perimetre du cercle est :\", str(per),\"m\")\n",
    "print (\"la surface du cercle est :\", str(sur),\"m^2\")\n"
   ]
  },
  {
   "cell_type": "code",
   "execution_count": 68,
   "id": "0eae84f4-48e0-4ce1-b187-882fa4bd88d7",
   "metadata": {},
   "outputs": [
    {
     "name": "stdout",
     "output_type": "stream",
     "text": [
      "Entrez un nombre entier n :  10\n"
     ]
    },
    {
     "name": "stdout",
     "output_type": "stream",
     "text": [
      "Les diviseurs de 10 sont :\n",
      "1\n",
      "2\n",
      "5\n",
      "10\n"
     ]
    }
   ],
   "source": [
    "11.\n",
    "n = int(input(\"Entrez un nombre entier n : \"))\n",
    "print(f\"Les diviseurs de {n} sont :\")\n",
    "for i in range(1, n + 1):\n",
    "        if n % i == 0:\n",
    "            print(i)\n"
   ]
  },
  {
   "cell_type": "code",
   "execution_count": 70,
   "id": "d4445907-2132-46e5-8525-b588d43b763d",
   "metadata": {},
   "outputs": [
    {
     "name": "stdout",
     "output_type": "stream",
     "text": [
      "Entrez un nombre entier n :  2\n"
     ]
    },
    {
     "name": "stdout",
     "output_type": "stream",
     "text": [
      "Table de multiplication de 2 :\n",
      "2 x 1 = 2\n",
      "2 x 2 = 4\n",
      "2 x 3 = 6\n",
      "2 x 4 = 8\n",
      "2 x 5 = 10\n",
      "2 x 6 = 12\n",
      "2 x 7 = 14\n",
      "2 x 8 = 16\n",
      "2 x 9 = 18\n",
      "2 x 10 = 20\n",
      "2 x 11 = 22\n"
     ]
    }
   ],
   "source": [
    "12.\n",
    "n = int(input(\"Entrez un nombre entier n : \"))\n",
    "print(f\"Table de multiplication de {n} :\")\n",
    "for i in range(1, 12):\n",
    "        print(f\"{n} x {i} = {n * i}\")"
   ]
  },
  {
   "cell_type": "code",
   "execution_count": 74,
   "id": "a78228d3-aa64-43ca-9b26-9e7cd174c5c1",
   "metadata": {},
   "outputs": [
    {
     "name": "stdout",
     "output_type": "stream",
     "text": [
      "Entrez un nombre entier n :  10\n"
     ]
    },
    {
     "name": "stdout",
     "output_type": "stream",
     "text": [
      "Table de multiplication de 10:\n",
      "10 x 1 = 10\n",
      "10 x 2 = 20\n",
      "10 x 3 = 30\n",
      "10 x 4 = 40\n",
      "10 x 5 = 50\n",
      "10 x 6 = 60\n",
      "10 x 7 = 70\n",
      "10 x 8 = 80\n",
      "10 x 9 = 90\n",
      "10 x 10 = 100\n",
      "10 x 11 = 110\n"
     ]
    }
   ],
   "source": [
    "n = int(input(\"Entrez un nombre entier n : \"))\n",
    "print(\"Table de multiplication de \"+ str(n)+ \":\")\n",
    "for i in range(1, 12):\n",
    "        print(f\"{n} x {i} = {n * i}\")"
   ]
  },
  {
   "cell_type": "code",
   "execution_count": 81,
   "id": "7d7d151c-5a21-4408-800a-30f3adacee50",
   "metadata": {},
   "outputs": [
    {
     "name": "stdout",
     "output_type": "stream",
     "text": [
      "Table de multiplication de 1:\n",
      "1 x 1 = 1\n",
      "1 x 2 = 2\n",
      "1 x 3 = 3\n",
      "1 x 4 = 4\n",
      "1 x 5 = 5\n",
      "1 x 6 = 6\n",
      "1 x 7 = 7\n",
      "1 x 8 = 8\n",
      "1 x 9 = 9\n",
      "1 x 10 = 10\n",
      "1 x 11 = 11\n",
      "\n",
      "Table de multiplication de 2:\n",
      "2 x 1 = 2\n",
      "2 x 2 = 4\n",
      "2 x 3 = 6\n",
      "2 x 4 = 8\n",
      "2 x 5 = 10\n",
      "2 x 6 = 12\n",
      "2 x 7 = 14\n",
      "2 x 8 = 16\n",
      "2 x 9 = 18\n",
      "2 x 10 = 20\n",
      "2 x 11 = 22\n",
      "\n",
      "Table de multiplication de 3:\n",
      "3 x 1 = 3\n",
      "3 x 2 = 6\n",
      "3 x 3 = 9\n",
      "3 x 4 = 12\n",
      "3 x 5 = 15\n",
      "3 x 6 = 18\n",
      "3 x 7 = 21\n",
      "3 x 8 = 24\n",
      "3 x 9 = 27\n",
      "3 x 10 = 30\n",
      "3 x 11 = 33\n",
      "\n",
      "Table de multiplication de 4:\n",
      "4 x 1 = 4\n",
      "4 x 2 = 8\n",
      "4 x 3 = 12\n",
      "4 x 4 = 16\n",
      "4 x 5 = 20\n",
      "4 x 6 = 24\n",
      "4 x 7 = 28\n",
      "4 x 8 = 32\n",
      "4 x 9 = 36\n",
      "4 x 10 = 40\n",
      "4 x 11 = 44\n",
      "\n",
      "Table de multiplication de 5:\n",
      "5 x 1 = 5\n",
      "5 x 2 = 10\n",
      "5 x 3 = 15\n",
      "5 x 4 = 20\n",
      "5 x 5 = 25\n",
      "5 x 6 = 30\n",
      "5 x 7 = 35\n",
      "5 x 8 = 40\n",
      "5 x 9 = 45\n",
      "5 x 10 = 50\n",
      "5 x 11 = 55\n",
      "\n",
      "Table de multiplication de 6:\n",
      "6 x 1 = 6\n",
      "6 x 2 = 12\n",
      "6 x 3 = 18\n",
      "6 x 4 = 24\n",
      "6 x 5 = 30\n",
      "6 x 6 = 36\n",
      "6 x 7 = 42\n",
      "6 x 8 = 48\n",
      "6 x 9 = 54\n",
      "6 x 10 = 60\n",
      "6 x 11 = 66\n",
      "\n",
      "Table de multiplication de 7:\n",
      "7 x 1 = 7\n",
      "7 x 2 = 14\n",
      "7 x 3 = 21\n",
      "7 x 4 = 28\n",
      "7 x 5 = 35\n",
      "7 x 6 = 42\n",
      "7 x 7 = 49\n",
      "7 x 8 = 56\n",
      "7 x 9 = 63\n",
      "7 x 10 = 70\n",
      "7 x 11 = 77\n",
      "\n",
      "Table de multiplication de 8:\n",
      "8 x 1 = 8\n",
      "8 x 2 = 16\n",
      "8 x 3 = 24\n",
      "8 x 4 = 32\n",
      "8 x 5 = 40\n",
      "8 x 6 = 48\n",
      "8 x 7 = 56\n",
      "8 x 8 = 64\n",
      "8 x 9 = 72\n",
      "8 x 10 = 80\n",
      "8 x 11 = 88\n",
      "\n",
      "Table de multiplication de 9:\n",
      "9 x 1 = 9\n",
      "9 x 2 = 18\n",
      "9 x 3 = 27\n",
      "9 x 4 = 36\n",
      "9 x 5 = 45\n",
      "9 x 6 = 54\n",
      "9 x 7 = 63\n",
      "9 x 8 = 72\n",
      "9 x 9 = 81\n",
      "9 x 10 = 90\n",
      "9 x 11 = 99\n",
      "\n"
     ]
    }
   ],
   "source": [
    "12.2\n",
    "for n in range(1, 10):\n",
    "    print(\"Table de multiplication de \"+ str(n)+\":\")\n",
    "    \n",
    "    for i in range(1, 12):\n",
    "        print(f\"{n} x {i} = {n * i}\")\n",
    "        \n",
    "    print()"
   ]
  },
  {
   "cell_type": "code",
   "execution_count": 1,
   "id": "da5d968f-9fb0-4a57-9594-94a7546b2b12",
   "metadata": {},
   "outputs": [
    {
     "name": "stdout",
     "output_type": "stream",
     "text": [
      "entrer un nombre a: 23\n",
      "entrer un nombre b: 34\n"
     ]
    },
    {
     "name": "stdout",
     "output_type": "stream",
     "text": [
      "le quotient de la division est : 0\n",
      "le reste de la division est : 23\n"
     ]
    }
   ],
   "source": [
    "13.\n",
    "a= int(input(\"entrer un nombre a:\"))\n",
    "b= int(input(\"entrer un nombre b:\"))\n",
    "q= a // b\n",
    "r= a % b\n",
    "print (\"le quotient de la division est :\", str(q))\n",
    "print (\"le reste de la division est :\", str(r))\n",
    "\n"
   ]
  },
  {
   "cell_type": "code",
   "execution_count": 10,
   "id": "eea64888-9848-4d50-b916-8d64171eff51",
   "metadata": {},
   "outputs": [
    {
     "name": "stdout",
     "output_type": "stream",
     "text": [
      "entrer un nombre entier :  3\n"
     ]
    },
    {
     "name": "stdout",
     "output_type": "stream",
     "text": [
      "3 n'est pas un carré parfait.\n"
     ]
    }
   ],
   "source": [
    "14.\n",
    "import math\n",
    "a = int(input(\"entrer un nombre entier : \"))\n",
    "rac = math.isqrt(a)\n",
    "\n",
    "if rac * rac == a:\n",
    "    print(f\"{a} est un carré parfait.\")\n",
    "else:\n",
    "    print(f\"{a} n'est pas un carré parfait.\")"
   ]
  },
  {
   "cell_type": "code",
   "execution_count": 24,
   "id": "951184e2-7465-46f1-ab37-dd5796ed7c82",
   "metadata": {},
   "outputs": [
    {
     "name": "stdout",
     "output_type": "stream",
     "text": [
      "entrer un nombre entier :  2\n"
     ]
    },
    {
     "name": "stdout",
     "output_type": "stream",
     "text": [
      "2 est un nombre premier.\n"
     ]
    }
   ],
   "source": [
    "15.\n",
    "def nbre_premier(n):\n",
    "    if n <= 1:\n",
    "       return False \n",
    "    \n",
    "    for i in range(2, int(math.sqrt(n)) + 1):\n",
    "        if n % i == 0:\n",
    "            return False  \n",
    "    return True  \n",
    "    \n",
    "n = int(input(\"entrer un nombre entier : \"))\n",
    "\n",
    "if nbre_premier(n):\n",
    "        print(f\"{n} est un nombre premier.\")\n",
    "else:\n",
    "        print(f\"{n} n'est pas un nombre premier.\")"
   ]
  },
  {
   "cell_type": "code",
   "execution_count": 2,
   "id": "35cd928c-92da-4b59-8efe-560187fdc12e",
   "metadata": {},
   "outputs": [
    {
     "name": "stdout",
     "output_type": "stream",
     "text": [
      "entrer la chaine jenni\n"
     ]
    },
    {
     "name": "stdout",
     "output_type": "stream",
     "text": [
      "les caracteres de jenni sont :\n",
      "j\n",
      "e\n",
      "n\n",
      "n\n",
      "i\n"
     ]
    }
   ],
   "source": [
    "16.\n",
    "s= input(\"entrer la chaine\")\n",
    "print(f\"les caracteres de {s} sont :\")\n",
    "for i in range(len(s)):\n",
    "    print(s[i])\n"
   ]
  },
  {
   "cell_type": "code",
   "execution_count": null,
   "id": "493a16f9-6bf1-453b-ba83-98cc007eacd4",
   "metadata": {},
   "outputs": [
    {
     "name": "stdout",
     "output_type": "stream",
     "text": [
      "entrer une chaîne :  python\n"
     ]
    },
    {
     "name": "stdout",
     "output_type": "stream",
     "text": [
      "Le caractère :' P' figure 1 fois dans la chaine python .\n",
      "Le caractère :' Y' figure 1 fois dans la chaine python .\n",
      "Le caractère :' T' figure 1 fois dans la chaine python .\n",
      "Le caractère :' H' figure 1 fois dans la chaine python .\n",
      "Le caractère :' O' figure 1 fois dans la chaine python .\n",
      "Le caractère :' N' figure 1 fois dans la chaine python .\n"
     ]
    }
   ],
   "source": [
    "17.\n",
    "chaine = input(\"entrer une chaîne : \")\n",
    "occ = {}\n",
    "for char in chaine:\n",
    "    char = char.upper() \n",
    "    if char in occ:\n",
    "        occ[char] += 1\n",
    "    else:\n",
    "        occ[char] = 1\n",
    "\n",
    "for char, compte in occ.items():\n",
    "    print(f\"Le caractère :' {char}' figure {compte} fois dans la chaine {chaine} .\")\n",
    "\n",
    "\n"
   ]
  },
  {
   "cell_type": "code",
   "execution_count": 60,
   "id": "66c583fb-8f06-45ed-9061-5775c5b8fcd8",
   "metadata": {},
   "outputs": [
    {
     "name": "stdout",
     "output_type": "stream",
     "text": [
      "saisir une chaîne de caractères :  mana\n"
     ]
    },
    {
     "name": "stdout",
     "output_type": "stream",
     "text": [
      "La lettre 'a' se trouve à la position : 2\n",
      "La lettre 'a' se trouve à la position : 4\n"
     ]
    }
   ],
   "source": [
    "18.\n",
    "\n",
    "s = input(\"saisir une chaîne de caractères : \")\n",
    "positions = [i for i, char in enumerate(s) if char == 'a']\n",
    "if positions:\n",
    "    for pos in positions:\n",
    "        pos +=1\n",
    "        print(f\"La lettre 'a' se trouve à la position : {pos}\")\n",
    "else:\n",
    "    print(\"La lettre 'a' ne se trouve pas dans la chaîne.\")\n"
   ]
  },
  {
   "cell_type": "code",
   "execution_count": 149,
   "id": "97f76c3d-f2f8-43c9-aae0-601cd7ada455",
   "metadata": {},
   "outputs": [
    {
     "name": "stdout",
     "output_type": "stream",
     "text": [
      "entrer une liste de mots avec des espaces : iphone tablet laptop tecno\n"
     ]
    },
    {
     "name": "stdout",
     "output_type": "stream",
     "text": [
      "['iphone', 'tablet', 'laptop', 'tecno']\n",
      "iphone : 6 caractères\n",
      "tablet : 6 caractères\n",
      "laptop : 6 caractères\n",
      "tecno : 5 caractères\n"
     ]
    }
   ],
   "source": [
    "19.\n",
    "# j'ai pris en compte le fait que la liste peut etre entrer automatiquement ou bien de facon statique\n",
    "liste= input(\"entrer une liste de mots avec des espaces :\")\n",
    "liste= [x for x in liste.split()]\n",
    "print(liste)\n",
    "\n",
    "#liste = [\"laptop\", \"iphone\", \"tablet\"]\n",
    "for i in liste:\n",
    "    print(f\"{i} : {len(i)} caractères\")"
   ]
  },
  {
   "cell_type": "code",
   "execution_count": 41,
   "id": "6cc1fe30-b4bd-4ccf-989a-1b37ed96b1af",
   "metadata": {},
   "outputs": [
    {
     "name": "stdout",
     "output_type": "stream",
     "text": [
      "entrer une chaîne :  jennifer\n"
     ]
    },
    {
     "name": "stdout",
     "output_type": "stream",
     "text": [
      "La chaîne après échange des caractères est : rennifej\n"
     ]
    }
   ],
   "source": [
    "20.\n",
    "chaine = input(\"entrer une chaîne : \")\n",
    "if len(chaine) > 1:\n",
    "    nouvelle_chaine = chaine[-1] + chaine[1:-1] + chaine[0]\n",
    "    print(\"La chaîne après échange des caractères est :\", nouvelle_chaine)\n",
    "else:\n",
    "    print(\"La chaîne doit contenir au moins deux caractères.\")\n"
   ]
  },
  {
   "cell_type": "code",
   "execution_count": 40,
   "id": "e7ce0189-9338-4a03-abb6-3409653ba9b3",
   "metadata": {},
   "outputs": [
    {
     "name": "stdout",
     "output_type": "stream",
     "text": [
      "entrer une chaîne :  jennifer\n"
     ]
    },
    {
     "name": "stdout",
     "output_type": "stream",
     "text": [
      "La chaîne 'jennifer' possède 3 voyelles.\n"
     ]
    }
   ],
   "source": [
    "21.\n",
    "s = input(\"entrer une chaîne : \")\n",
    "voyelles = \"aeiouyAEIOUY\"\n",
    "cpt = sum(1 for char in s if char in voyelles)\n",
    "print(f\"La chaîne '{s}' possède {cpt} voyelles.\")"
   ]
  },
  {
   "cell_type": "code",
   "execution_count": 35,
   "id": "bc824549-2c1f-440f-a317-fb7938762c72",
   "metadata": {},
   "outputs": [
    {
     "name": "stdout",
     "output_type": "stream",
     "text": [
      "saisir un texte :  laurre est belle\n"
     ]
    },
    {
     "name": "stdout",
     "output_type": "stream",
     "text": [
      "Le premier mot est : laurre\n"
     ]
    }
   ],
   "source": [
    "22.\n",
    "t = input(\"saisir un texte : \")\n",
    "premier_mot = t.split()[0]\n",
    "print(\"Le premier mot est :\", premier_mot)"
   ]
  },
  {
   "cell_type": "code",
   "execution_count": 38,
   "id": "92f85af4-c61a-4b59-8295-b12aa9e7134f",
   "metadata": {},
   "outputs": [
    {
     "name": "stdout",
     "output_type": "stream",
     "text": [
      "entrer le nom du fichier :  jennifer.pdf\n"
     ]
    },
    {
     "name": "stdout",
     "output_type": "stream",
     "text": [
      "L'extension du fichier est .pdf\n"
     ]
    }
   ],
   "source": [
    "23.\n",
    "nom = input(\"entrer le nom du fichier : \")\n",
    "extension = nom.split('.')[-1] if '.' in nom else ''\n",
    "print(f\"L'extension du fichier est .{extension}\")"
   ]
  },
  {
   "cell_type": "code",
   "execution_count": 30,
   "id": "701dfbaf-d317-4886-ae5a-5ff124b4354d",
   "metadata": {},
   "outputs": [
    {
     "name": "stdout",
     "output_type": "stream",
     "text": [
      "entrer un mot :  laval\n"
     ]
    },
    {
     "name": "stdout",
     "output_type": "stream",
     "text": [
      "'laval' n'est pas un palindrome.\n"
     ]
    }
   ],
   "source": [
    "24.\n",
    "mot = input(\"entrer un mot : \")\n",
    "\n",
    "def palindrome(mot):\n",
    "    mot == mot[::-1]\n",
    "    \n",
    "if palindrome(mot):\n",
    "   print(str(mot) + \" est un palindrome.\")\n",
    "else:\n",
    "   print(str(mot) + \" n'est pas un palindrome.\")"
   ]
  },
  {
   "cell_type": "code",
   "execution_count": 62,
   "id": "edb8bee3-9c34-4397-a397-e7b561757344",
   "metadata": {},
   "outputs": [
    {
     "name": "stdout",
     "output_type": "stream",
     "text": [
      "entrer un mot :  laval\n"
     ]
    },
    {
     "name": "stdout",
     "output_type": "stream",
     "text": [
      "laval est un palindrome.\n"
     ]
    }
   ],
   "source": [
    "24.\n",
    "mot = input(\"entrer un mot : \")\n",
    "if mot == mot[::-1]:\n",
    "   print(str(mot) + \" est un palindrome.\")\n",
    "else:\n",
    "   print(str(mot) + \" n'est pas un palindrome.\")"
   ]
  },
  {
   "cell_type": "code",
   "execution_count": 26,
   "id": "0bf515e2-1b7d-440d-ab33-81b12d32f358",
   "metadata": {},
   "outputs": [
    {
     "name": "stdout",
     "output_type": "stream",
     "text": [
      "entrer un mot :  python\n"
     ]
    },
    {
     "name": "stdout",
     "output_type": "stream",
     "text": [
      "L'inverse du mot est : nohtyp\n"
     ]
    }
   ],
   "source": [
    "25.\n",
    "mot = input(\"entrer un mot : \")\n",
    "inv = mot[::-1]\n",
    "print(\"L'inverse du mot est :\", inv)"
   ]
  },
  {
   "cell_type": "code",
   "execution_count": 63,
   "id": "33a58e2a-d009-48a6-9781-8b8d7f4ee4a1",
   "metadata": {},
   "outputs": [
    {
     "name": "stdout",
     "output_type": "stream",
     "text": [
      "saisir un texte :  laure aura vriament amarque\n"
     ]
    },
    {
     "name": "stdout",
     "output_type": "stream",
     "text": [
      "Mots commençant par la lettre 'a' : ['aura', 'amarque']\n"
     ]
    }
   ],
   "source": [
    "26.\n",
    "texte = input(\"saisir un texte : \")\n",
    "mots = texte.split()  \n",
    "mots_a = [mot for mot in mots if mot.lower().startswith('a')]  \n",
    "\n",
    "print(\"Mots commençant par la lettre 'a' :\", mots_a)"
   ]
  },
  {
   "cell_type": "code",
   "execution_count": 67,
   "id": "cb94958f-9405-4e6b-beb5-522533fd5146",
   "metadata": {},
   "outputs": [
    {
     "name": "stdout",
     "output_type": "stream",
     "text": [
      "Somme des éléments : 10\n",
      "Produit des éléments : 24\n"
     ]
    }
   ],
   "source": [
    "27.\n",
    "\n",
    "def somme_liste(liste):\n",
    "    return sum(liste)\n",
    "\n",
    "def multiplication_liste(liste):\n",
    "    produit = 1\n",
    "    for nombre in liste:\n",
    "        produit *= nombre\n",
    "    return produit\n",
    "\n",
    "nombres = [1, 2, 3, 4] \n",
    "print(\"Somme des éléments :\", somme_liste(nombres))\n",
    "print(\"Produit des éléments :\", multiplication_liste(nombres))"
   ]
  },
  {
   "cell_type": "code",
   "execution_count": 152,
   "id": "839acdea-a256-4363-9682-bd019bb50960",
   "metadata": {},
   "outputs": [
    {
     "name": "stdout",
     "output_type": "stream",
     "text": [
      "entrer une chaine de carateres : oui\n"
     ]
    },
    {
     "name": "stdout",
     "output_type": "stream",
     "text": [
      "La chaîne est vide : False\n"
     ]
    }
   ],
   "source": [
    "28.\n",
    "\n",
    "def est_vide(objet):\n",
    "    return len(objet) == 0\n",
    "\n",
    "chaine = input(\"entrer une chaine de carateres :\")\n",
    "print(\"La chaîne est vide :\", est_vide(chaine))"
   ]
  },
  {
   "cell_type": "code",
   "execution_count": 147,
   "id": "02a9df3c-97b9-46e7-a6e1-66d9f416eef0",
   "metadata": {},
   "outputs": [
    {
     "name": "stdout",
     "output_type": "stream",
     "text": [
      "entrer des nombres separees d'espace 1 2 34 12 12 0 45 66 0 55 34 66 1 0\n"
     ]
    },
    {
     "name": "stdout",
     "output_type": "stream",
     "text": [
      "Liste originale : [1, 2, 34, 12, 12, 0, 45, 66, 0, 55, 34, 66, 1, 0]\n",
      "Liste sans doublons : [0, 1, 2, 34, 66, 12, 45, 55]\n"
     ]
    }
   ],
   "source": [
    "29.# j'ai pris en compte le fait que la liste peut etre entrer automatiquement ou bien de facon statique\n",
    "\n",
    "def supprimer_doublons(liste):\n",
    "    return list(set(liste)) \n",
    "#liste_originale = [55, 4, 55, 44, 3, 2, 4, 42, 2, 3]\n",
    "liste_originale = input(\"entrer des nombres separees d'espace\")\n",
    "liste_originale=[int(x) for x in liste_originale.split()]\n",
    "print( \"Liste originale :\",liste_originale)\n",
    "\n",
    "liste_sans_doublons = supprimer_doublons(liste_originale)\n",
    "print(\"Liste sans doublons :\", liste_sans_doublons)"
   ]
  },
  {
   "cell_type": "code",
   "execution_count": 136,
   "id": "2a4bbf72-49a0-4d8b-b8a6-477a2bbf8556",
   "metadata": {},
   "outputs": [
    {
     "name": "stdout",
     "output_type": "stream",
     "text": [
      "entrer des nombres separees d'espace 1 3 4 5 7 9\n"
     ]
    },
    {
     "name": "stdout",
     "output_type": "stream",
     "text": [
      "[1, 3, 4, 5, 7, 9]\n"
     ]
    },
    {
     "name": "stdout",
     "output_type": "stream",
     "text": [
      "entrer des nombres separees d'espace 2 6 5 8 1 7\n"
     ]
    },
    {
     "name": "stdout",
     "output_type": "stream",
     "text": [
      "[2, 6, 5, 8, 1, 7]\n",
      "les deux listes ont les valeurs communes suivantes: {1, 5, 7}\n"
     ]
    }
   ],
   "source": [
    "30. # j'ai pris en compte le fait que la liste peut etre entrer automatiquement ou bien de facon statique\n",
    "\n",
    "#list1= [ 1,2,3,4,5]\n",
    "#list2= [4,6,7,9,2,3]\n",
    "list1 = input(\"entrer des nombres separees d'espace\")\n",
    "list1=[int(x) for x in list1.split()]\n",
    "print(list1)\n",
    "list2 = input(\"entrer des nombres separees d'espace\")\n",
    "list2 =[int(x) for x in list2.split()]\n",
    "print(list2)\n",
    "\n",
    "commune = set(list1) & set (list2)\n",
    "if commune:\n",
    "    print(\"les deux listes ont les valeurs communes suivantes:\",commune)\n",
    "else:\n",
    "    print(\"les deux listes n'ont pas de valeurs communes.\")\n",
    "    "
   ]
  },
  {
   "cell_type": "code",
   "execution_count": 137,
   "id": "cae6c340-ed94-4ab9-993f-27be26748eaa",
   "metadata": {},
   "outputs": [
    {
     "name": "stdout",
     "output_type": "stream",
     "text": [
      "entrer des nombres separees d'espace 1 2 3 4 5 6 7 8 9 0 10\n"
     ]
    },
    {
     "name": "stdout",
     "output_type": "stream",
     "text": [
      "[1, 2, 3, 4, 5, 6, 7, 8, 9, 0, 10]\n",
      "Entiers pairs : [2, 4, 6, 8, 0, 10]\n",
      "Entiers impairs : [1, 3, 5, 7, 9]\n"
     ]
    }
   ],
   "source": [
    "31. # j'ai pris en compte le fait que la liste peut etre entrer automatiquement ou bien de facon statique\n",
    "\n",
    "def extraire_pairs_impairs(liste):\n",
    "    pairs = [x for x in liste if x % 2 == 0]\n",
    "    impairs = [x for x in liste if x % 2 != 0]\n",
    "    return pairs, impairs\n",
    "\n",
    "#liste_nombres = [1, 2, 3, 4, 5, 6, 7, 8, 9, 10]\n",
    "liste_nombres= input(\"entrer des nombres separees d'espace\")\n",
    "liste_nombres=[int(x) for x in liste_nombres.split()]\n",
    "print(liste_nombres)\n",
    "pairs, impairs = extraire_pairs_impairs(liste_nombres)\n",
    "print(\"Entiers pairs :\", pairs)\n",
    "print(\"Entiers impairs :\", impairs)"
   ]
  },
  {
   "cell_type": "code",
   "execution_count": 138,
   "id": "2cfea1d9-a987-45c3-b6da-93381a49bc3f",
   "metadata": {},
   "outputs": [
    {
     "name": "stdout",
     "output_type": "stream",
     "text": [
      "entrer des nombres separees d'espace 1 2 3 4 5\n"
     ]
    },
    {
     "name": "stdout",
     "output_type": "stream",
     "text": [
      "[1, 2, 3, 4, 5]\n",
      "Permutations : [(1, 2, 3, 4, 5), (1, 2, 3, 5, 4), (1, 2, 4, 3, 5), (1, 2, 4, 5, 3), (1, 2, 5, 3, 4), (1, 2, 5, 4, 3), (1, 3, 2, 4, 5), (1, 3, 2, 5, 4), (1, 3, 4, 2, 5), (1, 3, 4, 5, 2), (1, 3, 5, 2, 4), (1, 3, 5, 4, 2), (1, 4, 2, 3, 5), (1, 4, 2, 5, 3), (1, 4, 3, 2, 5), (1, 4, 3, 5, 2), (1, 4, 5, 2, 3), (1, 4, 5, 3, 2), (1, 5, 2, 3, 4), (1, 5, 2, 4, 3), (1, 5, 3, 2, 4), (1, 5, 3, 4, 2), (1, 5, 4, 2, 3), (1, 5, 4, 3, 2), (2, 1, 3, 4, 5), (2, 1, 3, 5, 4), (2, 1, 4, 3, 5), (2, 1, 4, 5, 3), (2, 1, 5, 3, 4), (2, 1, 5, 4, 3), (2, 3, 1, 4, 5), (2, 3, 1, 5, 4), (2, 3, 4, 1, 5), (2, 3, 4, 5, 1), (2, 3, 5, 1, 4), (2, 3, 5, 4, 1), (2, 4, 1, 3, 5), (2, 4, 1, 5, 3), (2, 4, 3, 1, 5), (2, 4, 3, 5, 1), (2, 4, 5, 1, 3), (2, 4, 5, 3, 1), (2, 5, 1, 3, 4), (2, 5, 1, 4, 3), (2, 5, 3, 1, 4), (2, 5, 3, 4, 1), (2, 5, 4, 1, 3), (2, 5, 4, 3, 1), (3, 1, 2, 4, 5), (3, 1, 2, 5, 4), (3, 1, 4, 2, 5), (3, 1, 4, 5, 2), (3, 1, 5, 2, 4), (3, 1, 5, 4, 2), (3, 2, 1, 4, 5), (3, 2, 1, 5, 4), (3, 2, 4, 1, 5), (3, 2, 4, 5, 1), (3, 2, 5, 1, 4), (3, 2, 5, 4, 1), (3, 4, 1, 2, 5), (3, 4, 1, 5, 2), (3, 4, 2, 1, 5), (3, 4, 2, 5, 1), (3, 4, 5, 1, 2), (3, 4, 5, 2, 1), (3, 5, 1, 2, 4), (3, 5, 1, 4, 2), (3, 5, 2, 1, 4), (3, 5, 2, 4, 1), (3, 5, 4, 1, 2), (3, 5, 4, 2, 1), (4, 1, 2, 3, 5), (4, 1, 2, 5, 3), (4, 1, 3, 2, 5), (4, 1, 3, 5, 2), (4, 1, 5, 2, 3), (4, 1, 5, 3, 2), (4, 2, 1, 3, 5), (4, 2, 1, 5, 3), (4, 2, 3, 1, 5), (4, 2, 3, 5, 1), (4, 2, 5, 1, 3), (4, 2, 5, 3, 1), (4, 3, 1, 2, 5), (4, 3, 1, 5, 2), (4, 3, 2, 1, 5), (4, 3, 2, 5, 1), (4, 3, 5, 1, 2), (4, 3, 5, 2, 1), (4, 5, 1, 2, 3), (4, 5, 1, 3, 2), (4, 5, 2, 1, 3), (4, 5, 2, 3, 1), (4, 5, 3, 1, 2), (4, 5, 3, 2, 1), (5, 1, 2, 3, 4), (5, 1, 2, 4, 3), (5, 1, 3, 2, 4), (5, 1, 3, 4, 2), (5, 1, 4, 2, 3), (5, 1, 4, 3, 2), (5, 2, 1, 3, 4), (5, 2, 1, 4, 3), (5, 2, 3, 1, 4), (5, 2, 3, 4, 1), (5, 2, 4, 1, 3), (5, 2, 4, 3, 1), (5, 3, 1, 2, 4), (5, 3, 1, 4, 2), (5, 3, 2, 1, 4), (5, 3, 2, 4, 1), (5, 3, 4, 1, 2), (5, 3, 4, 2, 1), (5, 4, 1, 2, 3), (5, 4, 1, 3, 2), (5, 4, 2, 1, 3), (5, 4, 2, 3, 1), (5, 4, 3, 1, 2), (5, 4, 3, 2, 1)]\n"
     ]
    }
   ],
   "source": [
    "32. # j'ai pris en compte le fait que la liste peut etre entrer automatiquement ou bien de facon statique\n",
    "\n",
    "import itertools\n",
    "\n",
    "def permutations_liste(liste):\n",
    "    return list(itertools.permutations(liste))\n",
    "\n",
    "#liste_exemple = [1, 2, 3]\n",
    "liste_exemple = input(\"entrer des nombres separees d'espace\")\n",
    "liste_exemple=[int(x) for x in liste_exemple.split()]\n",
    "print(liste_exemple)\n",
    "perms = permutations_liste(liste_exemple)\n",
    "print(\"Permutations :\", perms)"
   ]
  },
  {
   "cell_type": "code",
   "execution_count": 124,
   "id": "7bde302b-c6a7-44bc-be9c-8685a3d73746",
   "metadata": {},
   "outputs": [
    {
     "name": "stdout",
     "output_type": "stream",
     "text": [
      " saisir une chaîne de caractères :  python\n"
     ]
    },
    {
     "name": "stdout",
     "output_type": "stream",
     "text": [
      "Caractères d'indice pair : pto\n"
     ]
    }
   ],
   "source": [
    "33.\n",
    "def caracteres_indice_pair(chaine):\n",
    "    return ''.join([chaine[i] for i in range(len(chaine)) if i % 2 == 0])\n",
    "\n",
    "chaine_utilisateur = input(\" saisir une chaîne de caractères : \")\n",
    "resultat = caracteres_indice_pair(chaine_utilisateur)\n",
    "print(\"Caractères d'indice pair :\", resultat)"
   ]
  },
  {
   "cell_type": "code",
   "execution_count": 143,
   "id": "baa8cce0-73e1-474b-a98d-67b25ba51ab6",
   "metadata": {},
   "outputs": [
    {
     "name": "stdout",
     "output_type": "stream",
     "text": [
      "entrer des nombres separees d'espace 12 3 12 13 14 17 19 20\n"
     ]
    },
    {
     "name": "stdout",
     "output_type": "stream",
     "text": [
      "[12, 3, 12, 13, 14, 17, 19, 20]\n",
      "Notes supérieures ou égales à 10 : [12, 12, 13, 14, 17, 19, 20]\n"
     ]
    }
   ],
   "source": [
    "34.\n",
    " # j'ai pris en compte le fait que la liste peut etre entrer automatiquement ou bien de facon statique\n",
    "\n",
    "#notes = [12, 4, 14, 11, 18, 13, 7, 10, 5, 9, 15, 8, 14, 16] si l'utilsateur ne veut pas entrer les nombres lui meme\n",
    "notes = input(\"entrer des nombres separees d'espace\")\n",
    "notes=[int(x) for x in notes.split()]\n",
    "print(notes)\n",
    "notes_sup_ou_egales_a_10 = [note for note in notes if note >= 10]\n",
    "print(\"Notes supérieures ou égales à 10 :\", notes_sup_ou_egales_a_10)"
   ]
  },
  {
   "cell_type": "code",
   "execution_count": 75,
   "id": "25f0f0d4-1a8c-4a98-aacd-3cea68747003",
   "metadata": {},
   "outputs": [
    {
     "name": "stdout",
     "output_type": "stream",
     "text": [
      "saisir une adresse URL :  www.youtube.com\n"
     ]
    },
    {
     "name": "stdout",
     "output_type": "stream",
     "text": [
      "Voici votre lien cliquable : <a href=\"www.youtube.com\">www.youtube.com</a>\n"
     ]
    }
   ],
   "source": [
    "35.\n",
    "url = input(\"saisir une adresse URL : \")\n",
    "lien = f'<a href=\"{url}\">{url}</a>'\n",
    "print(\"Voici votre lien cliquable :\", lien)"
   ]
  },
  {
   "cell_type": "code",
   "execution_count": 77,
   "id": "ae4cee63-a490-4044-8c91-a5569c5b3f0e",
   "metadata": {},
   "outputs": [
    {
     "name": "stdout",
     "output_type": "stream",
     "text": [
      " saisir une chaîne avec des espaces multiples :  laure        a                  une                        flemmme\n"
     ]
    },
    {
     "name": "stdout",
     "output_type": "stream",
     "text": [
      "Chaîne sans espaces multiples : laure a une flemmme\n"
     ]
    }
   ],
   "source": [
    "36.\n",
    "chaine = input(\" saisir une chaîne avec des espaces multiples : \")\n",
    "chaine_sans_espaces_multiples = ' '.join(chaine.split())\n",
    "\n",
    "print(\"Chaîne sans espaces multiples :\", chaine_sans_espaces_multiples)"
   ]
  },
  {
   "cell_type": "code",
   "execution_count": 83,
   "id": "c40cca51-74d9-4481-9e1b-5b5ebfafa062",
   "metadata": {},
   "outputs": [
    {
     "name": "stdout",
     "output_type": "stream",
     "text": [
      "saisir la première chaîne :  jenn a faim\n",
      "saisir la deuxième chaîne :  jenn a sommeil\n"
     ]
    },
    {
     "name": "stdout",
     "output_type": "stream",
     "text": [
      "Mots communs aux deux chaînes : ['jenn', 'a']\n"
     ]
    }
   ],
   "source": [
    "37.\n",
    "\n",
    "s1 = input(\"saisir la première chaîne : \")\n",
    "s2 = input(\"saisir la deuxième chaîne : \")\n",
    "mots_communs = set(s2.split()) & set(s1.split())\n",
    "mots_communs_liste = list(mots_communs)\n",
    "\n",
    "print(\"Mots communs aux deux chaînes :\", mots_communs_liste)"
   ]
  },
  {
   "cell_type": "code",
   "execution_count": 115,
   "id": "d6436bc6-b249-428b-bee2-774420f545f8",
   "metadata": {},
   "outputs": [
    {
     "name": "stdout",
     "output_type": "stream",
     "text": [
      "entrer une chaine : lagage de programmation\n"
     ]
    },
    {
     "name": "stdout",
     "output_type": "stream",
     "text": [
      "Le mot le plus long est : programmation\n"
     ]
    }
   ],
   "source": [
    "38.\n",
    "\n",
    "def mot_le_plus_long(s):\n",
    "    mots = s.split()  \n",
    "    if not mots: \n",
    "        return \"\"\n",
    "    mot_long = max(mots, key=len)  \n",
    "    return mot_long\n",
    "\n",
    "chaine = input (\"entrer une chaine :\")\n",
    "print(\"Le mot le plus long est :\", mot_le_plus_long(chaine))"
   ]
  },
  {
   "cell_type": "code",
   "execution_count": 112,
   "id": "5637f17d-4fc3-4cc8-a70f-eebbad0db19b",
   "metadata": {},
   "outputs": [
    {
     "name": "stdout",
     "output_type": "stream",
     "text": [
      "entrer une chaine : laure est tres belle\n"
     ]
    },
    {
     "name": "stdout",
     "output_type": "stream",
     "text": [
      "Le nombre de mots est : 4\n"
     ]
    }
   ],
   "source": [
    "39.\n",
    "def compter_mots(s):\n",
    "    mots = s.split()\n",
    "    return len(mots)  \n",
    "\n",
    "chaine = input (\"entrer une chaine :\")\n",
    "print(\"Le nombre de mots est :\", compter_mots(chaine))"
   ]
  },
  {
   "cell_type": "code",
   "execution_count": 110,
   "id": "b4f77d8c-b6c8-4378-8070-f80a353f369d",
   "metadata": {},
   "outputs": [
    {
     "name": "stdout",
     "output_type": "stream",
     "text": [
      "entrer une chaine : laure est belle\n"
     ]
    },
    {
     "name": "stdout",
     "output_type": "stream",
     "text": [
      "Chaîne après échange : belle est laure\n"
     ]
    }
   ],
   "source": [
    "40.\n",
    "\n",
    "def echanger_premier_dernier(s):\n",
    "    mots = s.split()  \n",
    "    if len(mots) < 2: \n",
    "        return s \n",
    "    mots[0], mots[-1] = mots[-1], mots[0]\n",
    "    return ' '.join(mots) \n",
    "\n",
    "chaine = input (\"entrer une chaine :\")\n",
    "print(\"Chaîne après échange :\", echanger_premier_dernier(chaine))"
   ]
  },
  {
   "cell_type": "code",
   "execution_count": 139,
   "id": "1a2ef6d7-3d01-4c22-9fc3-f425c9f48426",
   "metadata": {},
   "outputs": [
    {
     "name": "stdout",
     "output_type": "stream",
     "text": [
      "entrer des nombres separees d'espace 10 20 16 12 4\n"
     ]
    },
    {
     "name": "stdout",
     "output_type": "stream",
     "text": [
      "[10, 20, 16, 12, 4]\n"
     ]
    },
    {
     "name": "stdout",
     "output_type": "stream",
     "text": [
      "entrer n : 4\n"
     ]
    },
    {
     "name": "stdout",
     "output_type": "stream",
     "text": [
      "Nombre d'éléments divisibles par 4 : 4\n"
     ]
    }
   ],
   "source": [
    "41. # j'ai pris en compte le fait que la liste peut etre entrer automatiquement ou bien de facon statique\n",
    "\n",
    "def nombreDivisibles(liste_nombres, n):\n",
    "    \n",
    "    if n == 0:\n",
    "        raise ValueError(\"Le diviseur ne peut pas être zéro.\")\n",
    "    \n",
    "    compteur = 0\n",
    "    for nombre in liste_nombres:\n",
    "        if nombre % n == 0:\n",
    "            compteur += 1\n",
    "            \n",
    "    return compteur\n",
    "\n",
    "#liste = [10, 15, 20, 25, 30]\n",
    "liste = input(\"entrer des nombres separees d'espace\")\n",
    "liste=[int(x) for x in liste.split()]\n",
    "print(liste)\n",
    "n= int(input(\"entrer n :\"))\n",
    "\n",
    "resultat = nombreDivisibles(liste, n)\n",
    "print(f\"Nombre d'éléments divisibles par {n} : {resultat}\")"
   ]
  },
  {
   "cell_type": "code",
   "execution_count": 142,
   "id": "a9fad716-bd1c-477d-9328-ff105a0d4010",
   "metadata": {},
   "outputs": [
    {
     "name": "stdout",
     "output_type": "stream",
     "text": [
      "entrer des nombres separees d'espace 2 3 4 1 2 3 1 3 1 4 2 4\n"
     ]
    },
    {
     "name": "stdout",
     "output_type": "stream",
     "text": [
      "[2, 3, 4, 1, 2, 3, 1, 3, 1, 4, 2, 4]\n"
     ]
    },
    {
     "name": "stdout",
     "output_type": "stream",
     "text": [
      "entrer l'element x : 2\n"
     ]
    },
    {
     "name": "stdout",
     "output_type": "stream",
     "text": [
      "3\n"
     ]
    }
   ],
   "source": [
    "42.\n",
    "# j'ai pris en compte le fait que la liste peut etre entrer automatiquement ou bien de facon statique\n",
    "\n",
    "def nombreOccurences(L, x):\n",
    "    compteur = 0\n",
    "    for element in L:\n",
    "        if element == x:\n",
    "            compteur += 1\n",
    "    return compteur\n",
    "\n",
    "\n",
    "L = input(\"entrer des nombres separees d'espace\")\n",
    "L=[int(x) for x in L.split()]\n",
    "print(L)\n",
    "x = int(input(\"entrer l'element x :\"))\n",
    "print(nombreOccurences(L, x)) "
   ]
  },
  {
   "cell_type": "code",
   "execution_count": 102,
   "id": "18494cbb-1dc4-492b-9ac3-02dc0246b9a4",
   "metadata": {},
   "outputs": [
    {
     "name": "stdout",
     "output_type": "stream",
     "text": [
      "entrer une chaine : python\n"
     ]
    },
    {
     "name": "stdout",
     "output_type": "stream",
     "text": [
      "p*y*t*h*o*n\n"
     ]
    }
   ],
   "source": [
    "43.\n",
    "\n",
    "def InsertEtoile(s):\n",
    "    return '*'.join(s)\n",
    "\n",
    "s = input (\"entrer une chaine :\")\n",
    "print(InsertEtoile(s)) \n"
   ]
  },
  {
   "cell_type": "code",
   "execution_count": 94,
   "id": "90acebe0-db4e-485f-8246-f9d8834fd6fd",
   "metadata": {},
   "outputs": [
    {
     "name": "stdout",
     "output_type": "stream",
     "text": [
      "entrer une chaine : \"pyton\",\"est\",\"un\",\"lanagae\"\n"
     ]
    },
    {
     "name": "stdout",
     "output_type": "stream",
     "text": [
      "['\"PYTON\",\"EST\",\"UN\",\"LANAGAE\"']\n"
     ]
    }
   ],
   "source": [
    "44.\n",
    "\n",
    "def toutEnMajuscule(L):\n",
    "    return [chaine.upper() for chaine in L]\n",
    "si_L = [input (\"entrer une chaine :\")]\n",
    "resultat = toutEnMajuscule(si_L)\n",
    "print(resultat)  "
   ]
  },
  {
   "cell_type": "code",
   "execution_count": 89,
   "id": "2d4b1aef-bf1b-423a-817e-d3605e487907",
   "metadata": {},
   "outputs": [
    {
     "name": "stdout",
     "output_type": "stream",
     "text": [
      "saisir la chaine :  Python est tres Universel\n"
     ]
    },
    {
     "name": "stdout",
     "output_type": "stream",
     "text": [
      "Minuscules: 20, Majuscules: 2\n"
     ]
    }
   ],
   "source": [
    "45.\n",
    "def compter_minuscules_majuscule(s):\n",
    "    count_minuscules = 0\n",
    "    count_majuscule = 0\n",
    "    \n",
    "    for char in s:\n",
    "        if 'a' <= char <= 'z':\n",
    "            count_minuscules += 1\n",
    "        elif 'A' <= char <= 'Z':\n",
    "            count_majuscule += 1\n",
    "            \n",
    "    return count_minuscules, count_majuscule\n",
    "\n",
    "s= input (\"saisir la chaine : \")\n",
    "minuscules, majuscules = compter_minuscules_majuscule(s)\n",
    "print(f\"Minuscules: {minuscules}, Majuscules: {majuscules}\")"
   ]
  },
  {
   "cell_type": "code",
   "execution_count": 100,
   "id": "aeeb5522-284f-4b53-8999-3b8f76c9c615",
   "metadata": {},
   "outputs": [
    {
     "name": "stdout",
     "output_type": "stream",
     "text": [
      "entrer un nombre :  123405\n"
     ]
    },
    {
     "name": "stdout",
     "output_type": "stream",
     "text": [
      "[1, 2, 3, 4, 0, 5]\n"
     ]
    }
   ],
   "source": [
    "46.\n",
    "def obtenir_chiffres(n):\n",
    "    if n < 0:\n",
    "        n = -n \n",
    "    chiffres = []\n",
    "    while n > 0:\n",
    "        chiffre = n % 10\n",
    "        chiffres.append(chiffre)\n",
    "        n //= 10 \n",
    "    \n",
    "    return chiffres[::-1]\n",
    "\n",
    "nombre = int(input(\"entrer un nombre : \"))\n",
    "print(obtenir_chiffres(nombre)) "
   ]
  },
  {
   "cell_type": "code",
   "execution_count": 85,
   "id": "235a54c5-fd4c-4ec2-b6b3-d9068c1a6813",
   "metadata": {},
   "outputs": [
    {
     "name": "stdout",
     "output_type": "stream",
     "text": [
      "saisir le texte l a r\n",
      "saisir le texte l a f\n"
     ]
    },
    {
     "name": "stdout",
     "output_type": "stream",
     "text": [
      "['a', 'l']\n"
     ]
    }
   ],
   "source": [
    "47.\n",
    "\n",
    "def mots_communs(text1, text2):\n",
    "    mots1 = set(text1.split())\n",
    "    mots2 = set(text2.split())\n",
    "    \n",
    "    return list(mots1 & mots2)\n",
    "\n",
    "T1 = (input(\"saisir le texte\"))\n",
    "T2 = (input(\"saisir le texte\"))\n",
    "print(mots_communs(T2, T1))  "
   ]
  },
  {
   "cell_type": "code",
   "execution_count": null,
   "id": "0d6bd9d9-635e-416c-bfea-27b2e63dcd02",
   "metadata": {},
   "outputs": [],
   "source": []
  }
 ],
 "metadata": {
  "kernelspec": {
   "display_name": "Python 3 (ipykernel)",
   "language": "python",
   "name": "python3"
  },
  "language_info": {
   "codemirror_mode": {
    "name": "ipython",
    "version": 3
   },
   "file_extension": ".py",
   "mimetype": "text/x-python",
   "name": "python",
   "nbconvert_exporter": "python",
   "pygments_lexer": "ipython3",
   "version": "3.12.7"
  }
 },
 "nbformat": 4,
 "nbformat_minor": 5
}
